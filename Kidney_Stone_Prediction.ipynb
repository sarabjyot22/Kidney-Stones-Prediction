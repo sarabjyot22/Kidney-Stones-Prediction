{
  "cells": [
    {
      "cell_type": "code",
      "execution_count": null,
      "id": "ae459b77",
      "metadata": {
        "id": "ae459b77"
      },
      "outputs": [],
      "source": [
        "import pandas as pd\n",
        "import seaborn as sns\n",
        "import matplotlib.pyplot as plt\n",
        "import numpy as np\n",
        "sns.set_theme(color_codes=True)"
      ]
    },
    {
      "cell_type": "code",
      "execution_count": null,
      "id": "0f69349c",
      "metadata": {
        "id": "0f69349c",
        "outputId": "5092f072-86f5-4de8-a85d-2c9072fda697"
      },
      "outputs": [],
      "source": [
        "df = pd.read_csv(r\"C:\\Users\\sarab\\OneDrive\\Desktop\\problems\\Kidney Stone Prediction\\kidney-stone-dataset.csv\")\n",
        "df.head()"
      ]
    },
    {
      "cell_type": "code",
      "execution_count": null,
      "id": "fe556af9",
      "metadata": {
        "id": "fe556af9"
      },
      "outputs": [],
      "source": [
        "df.drop(columns='Unnamed: 0', inplace=True)"
      ]
    },
    {
      "cell_type": "code",
      "execution_count": null,
      "id": "66b82177",
      "metadata": {
        "id": "66b82177",
        "outputId": "9f41c02a-6c57-4590-e375-5d005b089c05"
      },
      "outputs": [],
      "source": [
        "df.head()"
      ]
    },
    {
      "cell_type": "code",
      "execution_count": null,
      "id": "154f3b10",
      "metadata": {
        "id": "154f3b10",
        "outputId": "839adf3b-7dff-428f-f74b-624686682635"
      },
      "outputs": [],
      "source": [
        "num_vars = ['gravity', 'ph', 'osmo', 'cond', 'urea', 'calc']\n",
        "\n",
        "fig, axs = plt.subplots(nrows=2, ncols=3, figsize=(20, 10))\n",
        "axs = axs.flatten()\n",
        "\n",
        "for i, var in enumerate(num_vars):\n",
        "    sns.boxplot(x=var, data=df, ax=axs[i])\n",
        "\n",
        "fig.tight_layout()\n",
        "\n",
        "plt.show()"
      ]
    },
    {
      "cell_type": "code",
      "execution_count": null,
      "id": "45a451f1",
      "metadata": {
        "id": "45a451f1",
        "outputId": "ec0dfd86-7677-49d2-c53a-cfca2f4378b8"
      },
      "outputs": [],
      "source": [
        "num_vars = ['gravity', 'ph', 'osmo', 'cond', 'urea', 'calc']\n",
        "\n",
        "fig, axs = plt.subplots(nrows=2, ncols=3, figsize=(20, 10))\n",
        "axs = axs.flatten()\n",
        "\n",
        "for i, var in enumerate(num_vars):\n",
        "    sns.violinplot(x=var, data=df, ax=axs[i])\n",
        "\n",
        "fig.tight_layout()\n",
        "\n",
        "plt.show()"
      ]
    },
    {
      "cell_type": "code",
      "execution_count": null,
      "id": "deb25bca",
      "metadata": {
        "id": "deb25bca",
        "outputId": "7d14e64b-85fc-491d-8ba1-67518d7fed67"
      },
      "outputs": [],
      "source": [
        "num_vars = ['gravity', 'ph', 'osmo', 'cond', 'urea', 'calc']\n",
        "\n",
        "fig, axs = plt.subplots(nrows=2, ncols=3, figsize=(20, 10))\n",
        "axs = axs.flatten()\n",
        "\n",
        "for i, var in enumerate(num_vars):\n",
        "    sns.histplot(x=var, data=df, ax=axs[i])\n",
        "\n",
        "fig.tight_layout()\n",
        "\n",
        "plt.show()"
      ]
    },
    {
      "cell_type": "code",
      "execution_count": null,
      "id": "207e3c9f",
      "metadata": {
        "id": "207e3c9f",
        "outputId": "2342c6b0-e3bd-46dd-d3e6-a40292da0c5b"
      },
      "outputs": [],
      "source": [
        "num_vars = ['gravity', 'ph', 'osmo', 'cond', 'urea', 'calc']\n",
        "\n",
        "fig, axs = plt.subplots(nrows=2, ncols=3, figsize=(20, 10))\n",
        "axs = axs.flatten()\n",
        "\n",
        "for i, var in enumerate(num_vars):\n",
        "    sns.histplot(x=var, data=df, hue='target', ax=axs[i])\n",
        "\n",
        "fig.tight_layout()\n",
        "\n",
        "plt.show()"
      ]
    },
    {
      "cell_type": "code",
      "execution_count": null,
      "id": "4ace99b9",
      "metadata": {
        "id": "4ace99b9",
        "outputId": "4bc45ad4-719a-425b-c468-f690bdd1f4a4"
      },
      "outputs": [],
      "source": [
        "plt.figure(figsize=(8,8),dpi=100)\n",
        "sns.scatterplot(x=\"calc\", y=\"urea\", hue=\"target\", data=df, edgecolor=\"black\")\n",
        "plt.show()"
      ]
    },
    {
      "cell_type": "code",
      "execution_count": null,
      "id": "824f621c",
      "metadata": {
        "id": "824f621c",
        "outputId": "e36c5724-19a9-40f5-a2c1-fdef59c821d9"
      },
      "outputs": [],
      "source": [
        "plt.figure(figsize=(8,8),dpi=100)\n",
        "sns.scatterplot(x=\"cond\", y=\"urea\", hue=\"target\", data=df, edgecolor=\"black\")\n",
        "plt.show()"
      ]
    },
    {
      "cell_type": "code",
      "execution_count": null,
      "id": "5ece3469",
      "metadata": {
        "id": "5ece3469",
        "outputId": "ff7e76e9-2d99-4588-e8d3-b75ffe63a406"
      },
      "outputs": [],
      "source": [
        "\n",
        "check_missing = df.isnull().sum() * 100 / df.shape[0]\n",
        "check_missing[check_missing > 0].sort_values(ascending=False)"
      ]
    },
    {
      "cell_type": "code",
      "execution_count": null,
      "id": "35de81dd",
      "metadata": {
        "id": "35de81dd",
        "outputId": "332d6672-931f-4e0e-8958-9d11614a682b"
      },
      "outputs": [],
      "source": [
        "sns.countplot(df['target'])\n",
        "df['target'].value_counts()"
      ]
    },
    {
      "cell_type": "code",
      "execution_count": null,
      "id": "7ab912e3",
      "metadata": {
        "id": "7ab912e3",
        "outputId": "aa2c79a9-d655-4dcb-e604-12606ee69c0e"
      },
      "outputs": [],
      "source": [
        "plt.figure(figsize=(15,12))\n",
        "sns.heatmap(df.corr(), fmt='.2g', annot=True)"
      ]
    },
    {
      "cell_type": "code",
      "execution_count": null,
      "id": "107436d8",
      "metadata": {
        "id": "107436d8"
      },
      "outputs": [],
      "source": [
        "X = df.drop('target', axis=1)\n",
        "y = df['target']"
      ]
    },
    {
      "cell_type": "code",
      "execution_count": null,
      "id": "74ddcee1",
      "metadata": {
        "id": "74ddcee1"
      },
      "outputs": [],
      "source": [
        "\n",
        "from sklearn.model_selection import train_test_split\n",
        "from sklearn.metrics import accuracy_score\n",
        "X_train, X_test, y_train, y_test = train_test_split(X,y, test_size=0.2,random_state=0)"
      ]
    },
    {
      "cell_type": "code",
      "execution_count": null,
      "id": "887b600c",
      "metadata": {
        "id": "887b600c",
        "outputId": "de898c8c-526f-4024-c2fb-cc6ded804c11"
      },
      "outputs": [],
      "source": [
        "from sklearn.tree import DecisionTreeClassifier\n",
        "from sklearn.model_selection import GridSearchCV\n",
        "dtree = DecisionTreeClassifier()\n",
        "param_grid = {\n",
        "    'max_depth': [3, 4, 5, 6, 7, 8],\n",
        "    'min_samples_split': [2, 3, 4],\n",
        "    'min_samples_leaf': [1, 2, 3, 4]\n",
        "}\n",
        "\n",
        "\n",
        "grid_search = GridSearchCV(dtree, param_grid, cv=5)\n",
        "grid_search.fit(X_train, y_train)\n",
        "\n",
        "\n",
        "print(grid_search.best_params_)"
      ]
    },
    {
      "cell_type": "code",
      "execution_count": null,
      "id": "fadbc7a9",
      "metadata": {
        "id": "fadbc7a9",
        "outputId": "dcf5d9b6-f860-4972-85c5-a75ed06e3bea"
      },
      "outputs": [],
      "source": [
        "from sklearn.tree import DecisionTreeClassifier\n",
        "dtree = DecisionTreeClassifier(random_state=0, max_depth=7, min_samples_leaf=1, min_samples_split=4)\n",
        "dtree.fit(X_train, y_train)"
      ]
    },
    {
      "cell_type": "code",
      "execution_count": null,
      "id": "6f17c158",
      "metadata": {
        "id": "6f17c158",
        "outputId": "616e5e60-6aa6-46ae-ac58-91b4b41cbc34"
      },
      "outputs": [],
      "source": [
        "y_pred = dtree.predict(X_test)\n",
        "print(\"Accuracy Score :\", round(accuracy_score(y_test, y_pred)*100 ,2), \"%\")"
      ]
    },
    {
      "cell_type": "code",
      "execution_count": null,
      "id": "57175ab6",
      "metadata": {
        "id": "57175ab6",
        "outputId": "25278a5d-7e44-4fdc-9927-83c0faf47c37"
      },
      "outputs": [],
      "source": [
        "from sklearn.metrics import accuracy_score, f1_score, precision_score, recall_score, jaccard_score, log_loss\n",
        "print('F-1 Score : ',(f1_score(y_test, y_pred, average='micro')))\n",
        "print('Precision Score : ',(precision_score(y_test, y_pred, average='micro')))\n",
        "print('Recall Score : ',(recall_score(y_test, y_pred, average='micro')))\n",
        "print('Jaccard Score : ',(jaccard_score(y_test, y_pred, average='micro')))\n",
        "print('Log Loss : ',(log_loss(y_test, y_pred)))"
      ]
    },
    {
      "cell_type": "code",
      "execution_count": null,
      "id": "7e9a20e2",
      "metadata": {
        "id": "7e9a20e2",
        "outputId": "5ce6d489-26b3-4d7f-9ab9-3f91dc829c79"
      },
      "outputs": [],
      "source": [
        "imp_df = pd.DataFrame({\n",
        "    \"Feature Name\": X_train.columns,\n",
        "    \"Importance\": dtree.feature_importances_\n",
        "})\n",
        "fi = imp_df.sort_values(by=\"Importance\", ascending=False)\n",
        "\n",
        "fi2 = fi.head(10)\n",
        "plt.figure(figsize=(10,8))\n",
        "sns.barplot(data=fi2, x='Importance', y='Feature Name')\n",
        "plt.title('Top 10 Feature Importance Each Attributes (Decision Tree)', fontsize=18)\n",
        "plt.xlabel ('Importance', fontsize=16)\n",
        "plt.ylabel ('Feature Name', fontsize=16)\n",
        "plt.show()"
      ]
    },
    {
      "cell_type": "code",
      "execution_count": null,
      "id": "62ef69ba",
      "metadata": {
        "id": "62ef69ba",
        "outputId": "8a0343bf-b23f-4fe9-9874-a7959f2aed42"
      },
      "outputs": [],
      "source": [
        "\n",
        "import shap\n",
        "explainer = shap.TreeExplainer(dtree)\n",
        "shap_values = explainer.shap_values(X_test)\n",
        "shap.summary_plot(shap_values[1], X_test.values, feature_names = X_test.columns)"
      ]
    },
    {
      "cell_type": "code",
      "execution_count": null,
      "id": "0ebc2990",
      "metadata": {
        "id": "0ebc2990",
        "outputId": "e6eef9df-19d3-40d9-8c5e-afbf54665d41"
      },
      "outputs": [],
      "source": [
        "from sklearn.metrics import confusion_matrix\n",
        "cm = confusion_matrix(y_test, y_pred)\n",
        "plt.figure(figsize=(5,5))\n",
        "sns.heatmap(data=cm,linewidths=.5, annot=True,  cmap = 'Blues')\n",
        "plt.ylabel('Actual label')\n",
        "plt.xlabel('Predicted label')\n",
        "all_sample_title = 'Accuracy Score for Decision Tree: {0}'.format(dtree.score(X_test, y_test))\n",
        "plt.title(all_sample_title, size = 15)"
      ]
    },
    {
      "cell_type": "code",
      "execution_count": null,
      "id": "491abf53",
      "metadata": {
        "id": "491abf53",
        "outputId": "1bda1850-7348-4ed5-8391-53bcb05afa16"
      },
      "outputs": [],
      "source": [
        "from sklearn.metrics import roc_curve, roc_auc_score\n",
        "y_pred_proba = dtree.predict_proba(X_test)[:][:,1]\n",
        "\n",
        "df_actual_predicted = pd.concat([pd.DataFrame(np.array(y_test), columns=['y_actual']), pd.DataFrame(y_pred_proba, columns=['y_pred_proba'])], axis=1)\n",
        "df_actual_predicted.index = y_test.index\n",
        "\n",
        "fpr, tpr, tr = roc_curve(df_actual_predicted['y_actual'], df_actual_predicted['y_pred_proba'])\n",
        "auc = roc_auc_score(df_actual_predicted['y_actual'], df_actual_predicted['y_pred_proba'])\n",
        "\n",
        "plt.plot(fpr, tpr, label='AUC = %0.4f' %auc)\n",
        "plt.plot(fpr, fpr, linestyle = '--', color='k')\n",
        "plt.xlabel('False Positive Rate')\n",
        "plt.ylabel('True Positive Rate')\n",
        "plt.title('ROC Curve', size = 15)\n",
        "plt.legend()"
      ]
    },
    {
      "cell_type": "code",
      "execution_count": null,
      "id": "8fcdd94a",
      "metadata": {
        "id": "8fcdd94a",
        "outputId": "265f4098-7ee5-4b61-c150-0ee0bb5d1995"
      },
      "outputs": [],
      "source": [
        "from sklearn.ensemble import RandomForestClassifier\n",
        "from sklearn.model_selection import GridSearchCV\n",
        "rfc = RandomForestClassifier()\n",
        "param_grid = {\n",
        "    'n_estimators': [100, 200],\n",
        "    'max_depth': [None, 5, 10],\n",
        "    'max_features': ['sqrt', 'log2', None]\n",
        "}\n",
        "\n",
        "\n",
        "grid_search = GridSearchCV(rfc, param_grid, cv=5)\n",
        "grid_search.fit(X_train, y_train)\n",
        "\n",
        "\n",
        "print(grid_search.best_params_)"
      ]
    },
    {
      "cell_type": "code",
      "execution_count": null,
      "id": "c5f3681c",
      "metadata": {
        "id": "c5f3681c",
        "outputId": "b76d01ef-5f25-41f3-89ec-788889e797dd"
      },
      "outputs": [],
      "source": [
        "from sklearn.ensemble import RandomForestClassifier\n",
        "rfc = RandomForestClassifier(random_state=0)\n",
        "rfc.fit(X_train, y_train)"
      ]
    },
    {
      "cell_type": "code",
      "execution_count": null,
      "id": "320d895e",
      "metadata": {
        "id": "320d895e",
        "outputId": "5e8b6e7e-a007-4000-e7d3-770258782ff4"
      },
      "outputs": [],
      "source": [
        "y_pred = rfc.predict(X_test)\n",
        "print(\"Accuracy Score :\", round(accuracy_score(y_test, y_pred)*100 ,2), \"%\")"
      ]
    },
    {
      "cell_type": "code",
      "execution_count": null,
      "id": "c1ed1fc2",
      "metadata": {
        "id": "c1ed1fc2",
        "outputId": "30be0655-653d-469c-f02c-e82b4b3a74ae"
      },
      "outputs": [],
      "source": [
        "from sklearn.metrics import accuracy_score, f1_score, precision_score, recall_score, jaccard_score, log_loss\n",
        "print('F-1 Score : ',(f1_score(y_test, y_pred, average='micro')))\n",
        "print('Precision Score : ',(precision_score(y_test, y_pred, average='micro')))\n",
        "print('Recall Score : ',(recall_score(y_test, y_pred, average='micro')))\n",
        "print('Jaccard Score : ',(jaccard_score(y_test, y_pred, average='micro')))\n",
        "print('Log Loss : ',(log_loss(y_test, y_pred)))"
      ]
    },
    {
      "cell_type": "code",
      "execution_count": null,
      "id": "07810dca",
      "metadata": {
        "id": "07810dca",
        "outputId": "ccc99770-a5c8-41d1-c8e1-5df77eab8573"
      },
      "outputs": [],
      "source": [
        "imp_df = pd.DataFrame({\n",
        "    \"Feature Name\": X_train.columns,\n",
        "    \"Importance\": rfc.feature_importances_\n",
        "})\n",
        "fi = imp_df.sort_values(by=\"Importance\", ascending=False)\n",
        "\n",
        "fi2 = fi.head(10)\n",
        "plt.figure(figsize=(10,8))\n",
        "sns.barplot(data=fi2, x='Importance', y='Feature Name')\n",
        "plt.title('Top 10 Feature Importance Each Attributes (Random Forest)', fontsize=18)\n",
        "plt.xlabel ('Importance', fontsize=16)\n",
        "plt.ylabel ('Feature Name', fontsize=16)\n",
        "plt.show()"
      ]
    },
    {
      "cell_type": "code",
      "execution_count": null,
      "id": "8800c9a6",
      "metadata": {
        "id": "8800c9a6",
        "outputId": "d1c7ba0b-219c-49d3-f167-17e81fe376b5"
      },
      "outputs": [],
      "source": [
        "\n",
        "import shap\n",
        "explainer = shap.TreeExplainer(rfc)\n",
        "shap_values = explainer.shap_values(X_test)\n",
        "shap.summary_plot(shap_values[1], X_test.values, feature_names = X_test.columns)"
      ]
    },
    {
      "cell_type": "code",
      "execution_count": null,
      "id": "720bcfd8",
      "metadata": {
        "id": "720bcfd8",
        "outputId": "64155070-f05c-4611-83f5-c397f8424708"
      },
      "outputs": [],
      "source": [
        "from sklearn.metrics import confusion_matrix\n",
        "cm = confusion_matrix(y_test, y_pred)\n",
        "plt.figure(figsize=(5,5))\n",
        "sns.heatmap(data=cm,linewidths=.5, annot=True,  cmap = 'Blues')\n",
        "plt.ylabel('Actual label')\n",
        "plt.xlabel('Predicted label')\n",
        "all_sample_title = 'Accuracy Score for Random Forest: {0}'.format(rfc.score(X_test, y_test))\n",
        "plt.title(all_sample_title, size = 15)"
      ]
    },
    {
      "cell_type": "code",
      "execution_count": null,
      "id": "dae05365",
      "metadata": {
        "id": "dae05365",
        "outputId": "46710121-7adb-4437-b253-c76cfb027b0a"
      },
      "outputs": [],
      "source": [
        "from sklearn.metrics import roc_curve, roc_auc_score\n",
        "y_pred_proba = rfc.predict_proba(X_test)[:][:,1]\n",
        "\n",
        "df_actual_predicted = pd.concat([pd.DataFrame(np.array(y_test), columns=['y_actual']), pd.DataFrame(y_pred_proba, columns=['y_pred_proba'])], axis=1)\n",
        "df_actual_predicted.index = y_test.index\n",
        "\n",
        "fpr, tpr, tr = roc_curve(df_actual_predicted['y_actual'], df_actual_predicted['y_pred_proba'])\n",
        "auc = roc_auc_score(df_actual_predicted['y_actual'], df_actual_predicted['y_pred_proba'])\n",
        "\n",
        "plt.plot(fpr, tpr, label='AUC = %0.4f' %auc)\n",
        "plt.plot(fpr, fpr, linestyle = '--', color='k')\n",
        "plt.xlabel('False Positive Rate')\n",
        "plt.ylabel('True Positive Rate')\n",
        "plt.title('ROC Curve', size = 15)\n",
        "plt.legend()"
      ]
    },
    {
      "cell_type": "code",
      "execution_count": null,
      "id": "254c52f8",
      "metadata": {
        "id": "254c52f8",
        "outputId": "914a2266-05a9-43a4-8c76-d409285a2f37"
      },
      "outputs": [],
      "source": [
        "from sklearn.linear_model import LogisticRegression\n",
        "from sklearn.model_selection import GridSearchCV\n",
        "\n",
        "\n",
        "logreg = LogisticRegression(solver='liblinear', max_iter=10000)\n",
        "\n",
        "\n",
        "param_grid = {\n",
        "    'penalty': ['l1', 'l2'],\n",
        "    'C': [0.01, 0.1, 1, 10]\n",
        "}\n",
        "\n",
        "\n",
        "grid_search = GridSearchCV(logreg, param_grid, cv=5)\n",
        "grid_search.fit(X_train, y_train)\n",
        "\n",
        "\n",
        "print(grid_search.best_params_)"
      ]
    },
    {
      "cell_type": "code",
      "execution_count": null,
      "id": "d88b1267",
      "metadata": {
        "id": "d88b1267",
        "outputId": "890e6f34-2e3f-424b-f7e0-e8565b9a0e91"
      },
      "outputs": [],
      "source": [
        "from sklearn.ensemble import RandomForestClassifier\n",
        "logreg = LogisticRegression(solver='liblinear', max_iter=10000, C=0.1, penalty='l1')\n",
        "logreg.fit(X_train, y_train)"
      ]
    },
    {
      "cell_type": "code",
      "execution_count": null,
      "id": "7cb0aa83",
      "metadata": {
        "id": "7cb0aa83",
        "outputId": "7258518d-c977-4b15-8b23-8e9610d368d9"
      },
      "outputs": [],
      "source": [
        "y_pred = logreg.predict(X_test)\n",
        "print(\"Accuracy Score :\", round(accuracy_score(y_test, y_pred)*100 ,2), \"%\")"
      ]
    },
    {
      "cell_type": "code",
      "execution_count": null,
      "id": "45da664f",
      "metadata": {
        "id": "45da664f",
        "outputId": "2a57225e-35aa-4d6d-a42c-c1789710cb32"
      },
      "outputs": [],
      "source": [
        "from sklearn.metrics import accuracy_score, f1_score, precision_score, recall_score, jaccard_score, log_loss\n",
        "print('F-1 Score : ',(f1_score(y_test, y_pred, average='micro')))\n",
        "print('Precision Score : ',(precision_score(y_test, y_pred, average='micro')))\n",
        "print('Recall Score : ',(recall_score(y_test, y_pred, average='micro')))\n",
        "print('Jaccard Score : ',(jaccard_score(y_test, y_pred, average='micro')))\n",
        "print('Log Loss : ',(log_loss(y_test, y_pred)))"
      ]
    },
    {
      "cell_type": "code",
      "execution_count": null,
      "id": "09a9c44a",
      "metadata": {
        "id": "09a9c44a",
        "outputId": "706c96de-819d-4468-ef75-149f55a43a35"
      },
      "outputs": [],
      "source": [
        "from sklearn.metrics import confusion_matrix\n",
        "cm = confusion_matrix(y_test, y_pred)\n",
        "plt.figure(figsize=(5,5))\n",
        "sns.heatmap(data=cm,linewidths=.5, annot=True,  cmap = 'Blues')\n",
        "plt.ylabel('Actual label')\n",
        "plt.xlabel('Predicted label')\n",
        "all_sample_title = 'Accuracy Score for Logistic Regression: {0}'.format(logreg.score(X_test, y_test))\n",
        "plt.title(all_sample_title, size = 15)"
      ]
    },
    {
      "cell_type": "code",
      "execution_count": null,
      "id": "a63e13df",
      "metadata": {
        "id": "a63e13df",
        "outputId": "fd40519e-6556-4574-f8f7-2479d8b7fb5d"
      },
      "outputs": [],
      "source": [
        "from sklearn.metrics import roc_curve, roc_auc_score\n",
        "y_pred_proba = logreg.predict_proba(X_test)[:][:,1]\n",
        "\n",
        "df_actual_predicted = pd.concat([pd.DataFrame(np.array(y_test), columns=['y_actual']), pd.DataFrame(y_pred_proba, columns=['y_pred_proba'])], axis=1)\n",
        "df_actual_predicted.index = y_test.index\n",
        "\n",
        "fpr, tpr, tr = roc_curve(df_actual_predicted['y_actual'], df_actual_predicted['y_pred_proba'])\n",
        "auc = roc_auc_score(df_actual_predicted['y_actual'], df_actual_predicted['y_pred_proba'])\n",
        "\n",
        "plt.plot(fpr, tpr, label='AUC = %0.4f' %auc)\n",
        "plt.plot(fpr, fpr, linestyle = '--', color='k')\n",
        "plt.xlabel('False Positive Rate')\n",
        "plt.ylabel('True Positive Rate')\n",
        "plt.title('ROC Curve', size = 15)\n",
        "plt.legend()"
      ]
    }
  ],
  "metadata": {
    "colab": {
      "provenance": []
    },
    "kernelspec": {
      "display_name": "Python 3 (ipykernel)",
      "language": "python",
      "name": "python3"
    },
    "language_info": {
      "codemirror_mode": {
        "name": "ipython",
        "version": 3
      },
      "file_extension": ".py",
      "mimetype": "text/x-python",
      "name": "python",
      "nbconvert_exporter": "python",
      "pygments_lexer": "ipython3",
      "version": "3.11.9"
    }
  },
  "nbformat": 4,
  "nbformat_minor": 5
}
